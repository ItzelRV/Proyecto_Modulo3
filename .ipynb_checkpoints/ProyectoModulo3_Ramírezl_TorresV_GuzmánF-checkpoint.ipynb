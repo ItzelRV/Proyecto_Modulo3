{
 "cells": [
  {
   "cell_type": "markdown",
   "metadata": {},
   "source": [
    "# <font color= #D30971> 1.1 Trabajo partículas"
   ]
  },
  {
   "cell_type": "markdown",
   "metadata": {},
   "source": [
    "### <font color= #4B1393> 1.2 OBJETIVOS"
   ]
  },
  {
   "cell_type": "markdown",
   "metadata": {},
   "source": [
    "<Strong> 1.1 Objetivo General </Strong> \n",
    "\n",
    "- Encontrar una manera de calcular la energía potencial de partículas aleatorias a lo largo de un plano calculando a su vez la distancia entre cada una de ellas. \n"
   ]
  },
  {
   "cell_type": "markdown",
   "metadata": {},
   "source": [
    "<Strong> 1.2 Objetivos Específicos </Strong>\n",
    "\n",
    "- Usar puntos aleatorios que tomamos como partículas para calcular todas las distancias entre ellas, y con esa distancia poder calcular el trabajo que se realiza para colocar N partículas aleatorias.  "
   ]
  },
  {
   "cell_type": "markdown",
   "metadata": {},
   "source": [
    "### <font color= #4B1393> 1.3 MODELO QUE REPRESENTA EL PROBLEMA."
   ]
  },
  {
   "cell_type": "markdown",
   "metadata": {},
   "source": [
    "<Strong>- Fórmula energía potencial eléctrica: </Strong>\n",
    "\n",
    "- $ U = ke\\frac{q^2}{s}    [Nm]$ \n",
    "\n",
    "<Strong>- Fórmula fuerza eléctrica: </Strong>\n",
    "\n",
    "- $ F = ke\\frac{q^2}{s^2}    [N]$ \n",
    "\n",
    "<Strong> - Variables: </Strong> \n",
    "\n",
    "- ke = Constante de Coulomb = 8.9875517873681764×10^9 $ [\\frac{N·m^2}{C^2}] $\n",
    "- q = Carga de la partícula $[C]$\n",
    "- s = Distancia entre partículas $[m]$"
   ]
  },
  {
   "cell_type": "markdown",
   "metadata": {},
   "source": [
    "### <font color= #4B1393> 1.4 & 1.5 SIMULACIONES Y VISUALIZACIÓN DE RESULTADOS."
   ]
  },
  {
   "cell_type": "code",
   "execution_count": 1,
   "metadata": {},
   "outputs": [],
   "source": [
    "import numpy as np\n",
    "import matplotlib.pyplot as plt\n",
    "%matplotlib inline"
   ]
  },
  {
   "cell_type": "code",
   "execution_count": 2,
   "metadata": {},
   "outputs": [],
   "source": [
    "x = np.random.rand(100)\n",
    "y = np.random.rand(100)"
   ]
  },
  {
   "cell_type": "code",
   "execution_count": 3,
   "metadata": {},
   "outputs": [],
   "source": [
    "r = []\n",
    "for i in range (100):\n",
    "    r.append([x[i],y[i]])"
   ]
  },
  {
   "cell_type": "code",
   "execution_count": 4,
   "metadata": {},
   "outputs": [],
   "source": [
    "def distance (x,y):\n",
    "    dist = np.array ([])\n",
    "    for p in range(len(x)):\n",
    "        d1 = np.sqrt((x[p]-x[p +1:])**2 + (y[p]-y[p+1:])**2)\n",
    "        dist = np.append(dist,d1)\n",
    "    return dist"
   ]
  },
  {
   "cell_type": "code",
   "execution_count": 5,
   "metadata": {},
   "outputs": [
    {
     "data": {
      "text/plain": [
       "array([0.42055671, 0.23687245, 0.76951152, ..., 0.68067527, 0.58207687,\n",
       "       1.08905238])"
      ]
     },
     "execution_count": 5,
     "metadata": {},
     "output_type": "execute_result"
    }
   ],
   "source": [
    "s = distance(x,y)\n",
    "s"
   ]
  },
  {
   "cell_type": "code",
   "execution_count": 19,
   "metadata": {},
   "outputs": [
    {
     "data": {
      "image/png": "[encoded data removed]",
      "text/plain": [
       "<matplotlib.figure.Figure at 0x29520615c0>"
      ]
     },
     "metadata": {},
     "output_type": "display_data"
    }
   ],
   "source": [
    "plt.scatter(x,y)\n",
    "plt.title(\"Posiciones de las partículas\")\n",
    "plt.xlabel(\"x [m]\")\n",
    "plt.ylabel(\"y [m]\")\n",
    "plt.show()"
   ]
  },
  {
   "cell_type": "markdown",
   "metadata": {},
   "source": [
    "### Fórmula energía potencial"
   ]
  },
  {
   "cell_type": "code",
   "execution_count": 7,
   "metadata": {},
   "outputs": [],
   "source": [
    "ke = 8.9875517873681764e9\n",
    "q = .5"
   ]
  },
  {
   "cell_type": "code",
   "execution_count": 8,
   "metadata": {},
   "outputs": [],
   "source": [
    "def potencial(s):\n",
    "    return (ke*(q**2))/s"
   ]
  },
  {
   "cell_type": "code",
   "execution_count": 9,
   "metadata": {},
   "outputs": [
    {
     "data": {
      "text/plain": [
       "array([5.34265148e+09, 9.48564472e+09, 2.91988865e+09, ...,\n",
       "       3.30096899e+09, 3.86012237e+09, 2.06315875e+09])"
      ]
     },
     "execution_count": 9,
     "metadata": {},
     "output_type": "execute_result"
    }
   ],
   "source": [
    "potencial(s)"
   ]
  },
  {
   "cell_type": "code",
   "execution_count": 10,
   "metadata": {},
   "outputs": [],
   "source": [
    "potencialtotal = np.cumsum(potencial(s))"
   ]
  },
  {
   "cell_type": "code",
   "execution_count": 11,
   "metadata": {},
   "outputs": [
    {
     "data": {
      "text/plain": [
       "32889296459434.363"
      ]
     },
     "execution_count": 11,
     "metadata": {},
     "output_type": "execute_result"
    }
   ],
   "source": [
    "potencialtotal[4949]"
   ]
  },
  {
   "cell_type": "code",
   "execution_count": 12,
   "metadata": {},
   "outputs": [
    {
     "data": {
      "image/png": "[encoded data removed]",
      "text/plain": [
       "<matplotlib.figure.Figure at 0x2951fa9128>"
      ]
     },
     "metadata": {},
     "output_type": "display_data"
    }
   ],
   "source": [
    "plt.plot(potencial(s), c=\"blue\")\n",
    "plt.title(\"Energía potencial eléctrica\",color= \"green\",fontsize=19)\n",
    "plt.xlabel(\"Distancias\")\n",
    "plt.ylabel(\"U\")\n",
    "plt.show()"
   ]
  },
  {
   "cell_type": "markdown",
   "metadata": {},
   "source": [
    "### Fórmula fuerza eléctrica"
   ]
  },
  {
   "cell_type": "code",
   "execution_count": 13,
   "metadata": {},
   "outputs": [],
   "source": [
    "def fuerza (s):\n",
    "    return (ke*q**2)/(s**2)"
   ]
  },
  {
   "cell_type": "code",
   "execution_count": 14,
   "metadata": {},
   "outputs": [
    {
     "data": {
      "text/plain": [
       "array([1.27037598e+10, 4.00453685e+10, 3.79447037e+09, ...,\n",
       "       4.84955038e+09, 6.63163676e+09, 1.89445318e+09])"
      ]
     },
     "execution_count": 14,
     "metadata": {},
     "output_type": "execute_result"
    }
   ],
   "source": [
    "fuerza(s)"
   ]
  },
  {
   "cell_type": "code",
   "execution_count": 15,
   "metadata": {},
   "outputs": [
    {
     "data": {
      "image/png": "[encoded data removed]",
      "text/plain": [
       "<matplotlib.figure.Figure at 0x2952007390>"
      ]
     },
     "metadata": {},
     "output_type": "display_data"
    }
   ],
   "source": [
    "plt.plot(fuerza(s), c=\"green\")\n",
    "plt.title(\"Fuerza eléctrica\",color= \"blue\",fontsize=19)\n",
    "plt.xlabel(\"Distancias\")\n",
    "plt.ylabel(\"Fuerza\")\n",
    "plt.show()"
   ]
  },
  {
   "cell_type": "code",
   "execution_count": 16,
   "metadata": {},
   "outputs": [],
   "source": [
    "def int_montecarlo(f, a, b, n):\n",
    "    \"\"\"Esta función calcula la integral por montecarlo, dado el integrando, el intervalo de integración \n",
    "    y el número de muestras aleatorias\"\"\"\n",
    "    u_i = np.random.rand(n)\n",
    "    arg_f = u_i*(b-a)+a \n",
    "    return(b-a)/n *np.sum(f(arg_f))"
   ]
  },
  {
   "cell_type": "code",
   "execution_count": 20,
   "metadata": {},
   "outputs": [],
   "source": [
    "integralitas = []\n",
    "for i in range(1,4950):\n",
    "    integralitas.append(int_montecarlo(fuerza,s[i-1],s[i],10000))"
   ]
  },
  {
   "cell_type": "code",
   "execution_count": 21,
   "metadata": {},
   "outputs": [
    {
     "data": {
      "text/plain": [
       "-14311039058.616669"
      ]
     },
     "execution_count": 21,
     "metadata": {},
     "output_type": "execute_result"
    }
   ],
   "source": [
    "integr = np.sum(integralitas)\n",
    "integr"
   ]
  },
  {
   "cell_type": "markdown",
   "metadata": {},
   "source": [
    "### <font color= #4B1393> 1.6 CONCLUSIONES."
   ]
  },
  {
   "cell_type": "markdown",
   "metadata": {},
   "source": [
    "- Aquï van"
   ]
  },
  {
   "cell_type": "markdown",
   "metadata": {},
   "source": [
    "### <font color= #4B1393> 1.7 BIBLIOGRAFÍA."
   ]
  },
  {
   "cell_type": "markdown",
   "metadata": {},
   "source": [
    "Serway / Jewett. (2016). Física Electricidad y Magnetismo. 9a edición: Cengage Learning."
   ]
  }
 ],
 "metadata": {
  "kernelspec": {
   "display_name": "Python 3",
   "language": "python",
   "name": "python3"
  },
  "language_info": {
   "codemirror_mode": {
    "name": "ipython",
    "version": 3
   },
   "file_extension": ".py",
   "mimetype": "text/x-python",
   "name": "python",
   "nbconvert_exporter": "python",
   "pygments_lexer": "ipython3",
   "version": "3.6.4"
  }
 },
 "nbformat": 4,
 "nbformat_minor": 2
}
